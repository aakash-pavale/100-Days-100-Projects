{
 "cells": [
  {
   "cell_type": "code",
   "execution_count": null,
   "id": "93a4c93a",
   "metadata": {},
   "outputs": [
    {
     "name": "stdout",
     "output_type": "stream",
     "text": [
      "Welcome to the Love Calculator!\n"
     ]
    }
   ],
   "source": [
    "# 🚨 Don't change the code below 👇\n",
    "print(\"Welcome to the Love Calculator!\")\n",
    "name1 = input(\"What is your name? \\n\")\n",
    "name2 = input(\"What is their name? \\n\")\n",
    "# 🚨 Don't change the code above 👆\n",
    "\n",
    "#Write your code below this line 👇\n",
    "\n",
    "#lower case names\n",
    "lower_name_1 = name1.lower()\n",
    "lower_name_2 = name2.lower()\n",
    "\n",
    "# counting letters in name\n",
    "t_count = lower_name_1.count(\"t\") + lower_name_2.count(\"t\")\n",
    "r_count = lower_name_1.count(\"r\") + lower_name_2.count(\"r\")\n",
    "u_count = lower_name_1.count(\"u\") + lower_name_2.count(\"u\")\n",
    "et_count = lower_name_1.count(\"e\") + lower_name_2.count(\"e\")\n",
    "\n",
    "l_count = lower_name_1.count(\"l\") + lower_name_2.count(\"l\")\n",
    "o_count = lower_name_1.count(\"o\") + lower_name_2.count(\"o\")\n",
    "v_count = lower_name_1.count(\"v\") + lower_name_2.count(\"v\")\n",
    "el_count = lower_name_1.count(\"e\") + lower_name_2.count(\"e\")\n",
    "\n",
    "true_count = str(t_count + r_count + u_count + et_count)\n",
    "love_count = str(l_count + o_count + v_count + el_count)\n",
    "\n",
    "final_score = int(true_count + love_count)\n",
    "\n",
    "if final_score < 10 and final_score > 90:\n",
    "    print(f\"Your score is {final_score}, you go together like coke and mentos.\")\n",
    "elif final_score >=40 and final_score <= 50:\n",
    "    print(f\"Your score is {final_score}, you are alright together.\")\n",
    "else:\n",
    "    print(f\"Your score is {final_score}.\")"
   ]
  },
  {
   "cell_type": "code",
   "execution_count": null,
   "id": "d5cd1ab1",
   "metadata": {},
   "outputs": [],
   "source": []
  }
 ],
 "metadata": {
  "kernelspec": {
   "display_name": "Python 3 (ipykernel)",
   "language": "python",
   "name": "python3"
  },
  "language_info": {
   "codemirror_mode": {
    "name": "ipython",
    "version": 3
   },
   "file_extension": ".py",
   "mimetype": "text/x-python",
   "name": "python",
   "nbconvert_exporter": "python",
   "pygments_lexer": "ipython3",
   "version": "3.9.12"
  }
 },
 "nbformat": 4,
 "nbformat_minor": 5
}
