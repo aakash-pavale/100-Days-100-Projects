{
 "cells": [
  {
   "cell_type": "markdown",
   "id": "677d83ee",
   "metadata": {},
   "source": [
    "# Rock / Paper / Scissors\n",
    "\n",
    "- This project is about understanding how randomisation works in python and how you can use it to generate random results and use them in your favor.\n",
    "\n",
    "- The functions we will be talking about are `lists`, indexing in lists and `random` library in python.\n",
    "\n",
    "- The goal is to build a game where you choose rock, paper or scissors and let computer choose one and based on the inputs of both, we decide who wins and who loses or if it results in a draw."
   ]
  },
  {
   "cell_type": "code",
   "execution_count": 2,
   "id": "efb1a34b",
   "metadata": {},
   "outputs": [
    {
     "name": "stdout",
     "output_type": "stream",
     "text": [
      "What do you choose? 0 for Rock, 1 for Paper or 2 for Scissors: 2\n"
     ]
    }
   ],
   "source": [
    "# importing 'random' library\n",
    "import random\n",
    "\n",
    "# taking input from the user and converting into 'integer'\n",
    "your_choice = int(input(\"What do you choose? 0 for Rock, 1 for Paper or 2 for Scissors: \"))\n",
    "\n",
    "\n",
    "# making our code generate a random number between 0 and 2 (0, 1, 2)\n",
    "comp_choice = random.randint(0, 2)\n",
    "# 'randint' generates integers only"
   ]
  },
  {
   "cell_type": "markdown",
   "id": "d48ccd78",
   "metadata": {},
   "source": [
    "Now we assign a symbol to rock, paper and scissors respectively and use it to display the choice made by the computer and you:"
   ]
  },
  {
   "cell_type": "code",
   "execution_count": 3,
   "id": "99b5d2e8",
   "metadata": {},
   "outputs": [],
   "source": [
    "rock = '''\n",
    "    _______\n",
    "---'   ____)\n",
    "      (_____)\n",
    "      (_____)\n",
    "      (____)\n",
    "---.__(___)\n",
    "'''\n",
    "\n",
    "paper = '''\n",
    "    _______\n",
    "---'   ____)____\n",
    "          ______)\n",
    "          _______)\n",
    "         _______)\n",
    "---.__________)\n",
    "'''\n",
    "\n",
    "scissors = '''\n",
    "    _______\n",
    "---'   ____)____\n",
    "          ______)\n",
    "       __________)\n",
    "      (____)\n",
    "---.__(___)\n",
    "'''"
   ]
  },
  {
   "cell_type": "markdown",
   "id": "3f852cf0",
   "metadata": {},
   "source": [
    "Writing the conditions to execute the game:"
   ]
  },
  {
   "cell_type": "code",
   "execution_count": 8,
   "id": "690957f2",
   "metadata": {},
   "outputs": [
    {
     "name": "stdout",
     "output_type": "stream",
     "text": [
      "You chose:\n",
      "\n",
      "    _______\n",
      "---'   ____)____\n",
      "          ______)\n",
      "       __________)\n",
      "      (____)\n",
      "---.__(___)\n",
      "\n",
      "Computer chose:\n",
      "\n",
      "    _______\n",
      "---'   ____)\n",
      "      (_____)\n",
      "      (_____)\n",
      "      (____)\n",
      "---.__(___)\n",
      "\n",
      "You lose\n"
     ]
    }
   ],
   "source": [
    "if your_choice > 2 or your_choice < 0:\n",
    "    print(\"Invalid entry! Choose from either 0 , 1 or 2\")\n",
    "    \n",
    "# we don't want the game to continue if the user inputs anything other than what is asked\n",
    "\n",
    "\n",
    "\n",
    "else:\n",
    "    choice_list = [rock, paper, scissors]\n",
    "    print(f\"You chose:\\n{choice_list[your_choice]}\")\n",
    "    print(f\"Computer chose:\\n{choice_list[comp_choice]}\")\n",
    "\n",
    "# Making a list of the choices that are available to us and use the indexing \n",
    "# to fetch a particular element from that list:\n",
    "\n",
    "# - We first declare a list and put three text strings 'rock', 'paper' and 'scissors' in it\n",
    "# - To fetch a particular element from a list, you have to point at its right location using the index:\n",
    "#     - Ex. `list[0]` will give the 1st element from the list\n",
    "# - Then we use the variables having our choice and the computer's choice stored in it as an index number \n",
    "# to fetch what was the selection made by them both respectively. \n",
    "# The computer's choice will be completely random as we are using random function to generate \n",
    "# any number between 0 and 2 and each time you run it, it gives a new integer\n",
    "\n",
    "\n",
    "# now comparing the inputs and deciding the winner\n",
    "    if comp_choice == 0 and your_choice == 1:\n",
    "        print(\"You win\")\n",
    "\n",
    "    elif comp_choice == 1 and your_choice == 2:\n",
    "        print(\"You win\")\n",
    "\n",
    "    elif comp_choice == 2 and your_choice == 0:\n",
    "        print(\"You win\")\n",
    "\n",
    "    elif comp_choice == your_choice:\n",
    "        print(\"Try again\")\n",
    "\n",
    "    else:\n",
    "        print(\"You lose\")\n",
    "\n"
   ]
  }
 ],
 "metadata": {
  "kernelspec": {
   "display_name": "Python 3 (ipykernel)",
   "language": "python",
   "name": "python3"
  },
  "language_info": {
   "codemirror_mode": {
    "name": "ipython",
    "version": 3
   },
   "file_extension": ".py",
   "mimetype": "text/x-python",
   "name": "python",
   "nbconvert_exporter": "python",
   "pygments_lexer": "ipython3",
   "version": "3.9.13"
  }
 },
 "nbformat": 4,
 "nbformat_minor": 5
}
