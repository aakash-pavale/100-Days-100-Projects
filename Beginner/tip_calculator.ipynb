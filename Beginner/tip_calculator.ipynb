{
 "cells": [
  {
   "cell_type": "markdown",
   "id": "f0600694",
   "metadata": {},
   "source": [
    "# Day 2\n",
    "\n",
    "## Project 2: Tip Calculator\n",
    "\n",
    "This is a simple **Tip Calculator** which calculates the amount each person has to pay including tip.\n",
    "Details of use case has been given below."
   ]
  },
  {
   "cell_type": "markdown",
   "id": "08686c1e",
   "metadata": {},
   "source": [
    "### Use case: \n",
    "\n",
    "If the bill was $150.00, split between 5 people, with 12% tip. \n",
    "\n",
    "Each person should pay (150.00 / 5) * 1.12 = 33.6\n",
    "\n",
    "Format the result to 2 decimal places = 33.60\n",
    "\n",
    "Tip: There are 2 ways to round a number. You might have to do some Googling to solve this.💪\n",
    "\n",
    "Write your code below this line 👇"
   ]
  },
  {
   "cell_type": "code",
   "execution_count": 1,
   "id": "2e8433b2",
   "metadata": {},
   "outputs": [
    {
     "name": "stdout",
     "output_type": "stream",
     "text": [
      "Welcome to Tip Calculator\n"
     ]
    }
   ],
   "source": [
    "#1. Welcome message for Calculator using print function\n",
    "print(\"Welcome to Tip Calculator\")"
   ]
  },
  {
   "cell_type": "code",
   "execution_count": 2,
   "id": "0e3448ea",
   "metadata": {},
   "outputs": [
    {
     "name": "stdout",
     "output_type": "stream",
     "text": [
      "What is the total amount of bill? $150\n",
      "How much tip would you like to give in percent for eg. 10,12, or 15? 12\n",
      "How many people to split the bill? 5\n"
     ]
    }
   ],
   "source": [
    "#2. using input function to request requiered values from user and assigning those to respected variables\n",
    "total_bill = float(input(\"What is the total amount of bill? $\"))\n",
    "tip_percent = int(input(\"How much tip would you like to give in percent for eg. 10,12, or 15? \"))\n",
    "no_of_people = int(input(\"How many people to split the bill? \"))"
   ]
  },
  {
   "cell_type": "code",
   "execution_count": 3,
   "id": "fafbaa0a",
   "metadata": {},
   "outputs": [],
   "source": [
    "#3. Calculating the tip and bill split according to use case\n",
    "tip_per = 1 + (tip_percent/100)\n",
    "\n",
    "split_bill = (total_bill / no_of_people) * tip_per"
   ]
  },
  {
   "cell_type": "markdown",
   "id": "1a9e8ae4",
   "metadata": {},
   "source": [
    "- in variable `tip_per` we taking the input stored in varibale `tip_percent` and dividing it by `100` and then adding by `1` so as to use that in further calculation as to caculate our actual bill amount + tip for each person"
   ]
  },
  {
   "cell_type": "code",
   "execution_count": 4,
   "id": "c2dd333c",
   "metadata": {},
   "outputs": [
    {
     "name": "stdout",
     "output_type": "stream",
     "text": [
      "Each person should pay $33.60\n"
     ]
    }
   ],
   "source": [
    "#4. Formatting result in right format before printimg result\n",
    "result = \"{:.2f}\".format(split_bill)\n",
    "\n",
    "print(f\"Each person should pay ${result}\")"
   ]
  },
  {
   "cell_type": "markdown",
   "id": "933389da",
   "metadata": {},
   "source": [
    "- we are storing the final answer re-formatted in `result` variable.\n",
    "- `\"{:.2f}\"` we are using this `format` method so as to stop the number after decimal i.e `2`\n",
    "- other way to do this would be using `round` fucntion `for eg. round(variable, 2)`\n",
    "- then in `print` function we are using `F-String` to concate values of two different data types."
   ]
  }
 ],
 "metadata": {
  "kernelspec": {
   "display_name": "Python 3 (ipykernel)",
   "language": "python",
   "name": "python3"
  },
  "language_info": {
   "codemirror_mode": {
    "name": "ipython",
    "version": 3
   },
   "file_extension": ".py",
   "mimetype": "text/x-python",
   "name": "python",
   "nbconvert_exporter": "python",
   "pygments_lexer": "ipython3",
   "version": "3.9.12"
  }
 },
 "nbformat": 4,
 "nbformat_minor": 5
}
