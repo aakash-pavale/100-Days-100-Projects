{
 "cells": [
  {
   "cell_type": "markdown",
   "id": "fd5cfaf8",
   "metadata": {},
   "source": [
    "# Day - 5\n",
    "\n",
    "## Project - 05 - Random Password generator\n",
    "\n",
    "This a simple pasword generator where we have three list of letters, numbers and symbols. We ask user to input few values such as how many letters they want in their password, how many symbols and how many numbers they prefer to be in a password."
   ]
  },
  {
   "cell_type": "code",
   "execution_count": 1,
   "id": "8b70e89e",
   "metadata": {},
   "outputs": [],
   "source": [
    "#Password Generator Project\n",
    "# Step 1\n",
    "import random\n",
    "letters = ['a', 'b', 'c', 'd', 'e', 'f', 'g', 'h', 'i', 'j', 'k', 'l', 'm', 'n', 'o', 'p', 'q', 'r', 's', 't', 'u', 'v', 'w', 'x', 'y', 'z', 'A', 'B', 'C', 'D', 'E', 'F', 'G', 'H', 'I', 'J', 'K', 'L', 'M', 'N', 'O', 'P', 'Q', 'R', 'S', 'T', 'U', 'V', 'W', 'X', 'Y', 'Z']\n",
    "numbers = ['0', '1', '2', '3', '4', '5', '6', '7', '8', '9']\n",
    "symbols = ['!', '#', '$', '%', '&', '(', ')', '*', '+']"
   ]
  },
  {
   "cell_type": "markdown",
   "id": "c9463bb7",
   "metadata": {},
   "source": [
    "In step 1 we are importing `random` module which we need later on to make random `choice` for letters, numbers and symbols.\n",
    "for which we have to use the module in below format:\n",
    "`random.choice(variable)`"
   ]
  },
  {
   "cell_type": "code",
   "execution_count": 2,
   "id": "d528e3f6",
   "metadata": {},
   "outputs": [
    {
     "name": "stdout",
     "output_type": "stream",
     "text": [
      "Welcome to the PyPassword Generator!\n",
      "How many letters would you like in your password?\n",
      "4\n",
      "How many symbols would you like?\n",
      "2\n",
      "How many numbers would you like?\n",
      "2\n"
     ]
    }
   ],
   "source": [
    "# Step 2\n",
    "print(\"Welcome to the PyPassword Generator!\")\n",
    "nr_letters= int(input(\"How many letters would you like in your password?\\n\")) \n",
    "nr_symbols = int(input(f\"How many symbols would you like?\\n\"))\n",
    "nr_numbers = int(input(f\"How many numbers would you like?\\n\"))"
   ]
  },
  {
   "cell_type": "markdown",
   "id": "ab002f2c",
   "metadata": {},
   "source": [
    "In step 2 we are printing the Welcome message for password generator and asking user for inputs."
   ]
  },
  {
   "cell_type": "code",
   "execution_count": 9,
   "id": "fe03d807",
   "metadata": {},
   "outputs": [
    {
     "name": "stdout",
     "output_type": "stream",
     "text": [
      "AZPh*)13\n"
     ]
    }
   ],
   "source": [
    "# Step 3\n",
    "l = ''\n",
    "for i in range(0,nr_letters):\n",
    "  a = random.choice(letters)\n",
    "  l = l + a\n",
    "for i in range(0,nr_symbols):\n",
    "  b = random.choice(symbols)\n",
    "  l = l + b\n",
    "for i in range(0,nr_numbers):\n",
    "  c = random.choice(numbers)\n",
    "  l = l + c\n",
    "print(l)"
   ]
  },
  {
   "cell_type": "markdown",
   "id": "d377f331",
   "metadata": {},
   "source": [
    "In Step 3 we create a empty string `l` and use a `for` loop where in we first run a loop to randomly generate letters from the list that we have for it and store it in variable `a` and for the range `(0,nr_letters)` and adding every letter generated to the empty `string` that we created i.e `l`.\n",
    "\n",
    "Similarly we do the following for `symbols` and `numbers` and keep adding the rest to same empty string that we created.\n",
    "\n",
    "The final output that we get after the steps are complete is where we get four letter then 2 symbols and 2 numbers as per users input. The problem here the ouput we have recirved is stackked one after other and there is no mixture of letters, numbers and symbol.\n",
    "\n",
    "For that lets take a look at step 4:"
   ]
  },
  {
   "cell_type": "code",
   "execution_count": 10,
   "id": "cd7490d2",
   "metadata": {},
   "outputs": [
    {
     "name": "stdout",
     "output_type": "stream",
     "text": [
      "['3', 'P', '1', ')', 'A', 'Z', '*', 'h']\n"
     ]
    }
   ],
   "source": [
    "# step 4\n",
    "list = random.sample(l,len(l))\n",
    "print(list)"
   ]
  },
  {
   "cell_type": "markdown",
   "id": "aa0058af",
   "metadata": {},
   "source": [
    "In step 4 we are creating a variable called `list` and using `sample()` function from random module, wherein we asking it to generate random sample from our output `l` and put them in a `list`. \n",
    "\n",
    "The alternative method could have been using `shuffle()` function in random module. Below is an example how shuffle works.\n",
    "\n",
    "`items = [1, 2, 3, 4, 5, 6, 7]\n",
    " random.shuffle(items)\n",
    " items\n",
    "[7, 3, 2, 5, 6, 4, 1]`"
   ]
  },
  {
   "cell_type": "code",
   "execution_count": 11,
   "id": "a7687575",
   "metadata": {},
   "outputs": [
    {
     "name": "stdout",
     "output_type": "stream",
     "text": [
      "3P1)AZ*h\n"
     ]
    }
   ],
   "source": [
    "# Step 5\n",
    "password = ''\n",
    "for x in list:\n",
    "  password += x\n",
    "print(password)"
   ]
  },
  {
   "cell_type": "markdown",
   "id": "246b1c82",
   "metadata": {},
   "source": [
    "In Step 5 we have created a empty `String` named `password` and the we run a `for` loop and convert the list into string by passing each element of list in loop."
   ]
  }
 ],
 "metadata": {
  "kernelspec": {
   "display_name": "Python 3 (ipykernel)",
   "language": "python",
   "name": "python3"
  },
  "language_info": {
   "codemirror_mode": {
    "name": "ipython",
    "version": 3
   },
   "file_extension": ".py",
   "mimetype": "text/x-python",
   "name": "python",
   "nbconvert_exporter": "python",
   "pygments_lexer": "ipython3",
   "version": "3.9.12"
  }
 },
 "nbformat": 4,
 "nbformat_minor": 5
}
