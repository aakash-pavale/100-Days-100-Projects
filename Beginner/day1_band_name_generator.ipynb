{
 "cells": [
  {
   "cell_type": "markdown",
   "id": "66f46593",
   "metadata": {},
   "source": [
    "# Day 1\n",
    "\n",
    "## Project 1: Band Name Generator\n",
    "\n",
    "This is simple **Band Name Gernerator** that takes input from user for eg. which city they live in and what is the name of their pet and in final output it combines the two input to produce a band name concatenating both.\n",
    "\n",
    "From technical standpoint in the below code we implemented `print` function, `input` function, `string` manipulatuion and assigning `variable` and storing the values in the respective variables."
   ]
  },
  {
   "cell_type": "code",
   "execution_count": 1,
   "id": "3ed9c288",
   "metadata": {},
   "outputs": [
    {
     "name": "stdout",
     "output_type": "stream",
     "text": [
      "Welcome to Band Name Generator.\n"
     ]
    }
   ],
   "source": [
    "#1. Create a greeting for your program.\n",
    "print(\"Welcome to Band Name Generator.\")"
   ]
  },
  {
   "cell_type": "code",
   "execution_count": 2,
   "id": "e929e971",
   "metadata": {},
   "outputs": [
    {
     "name": "stdout",
     "output_type": "stream",
     "text": [
      "Which city do you live in?: \n",
      "Pune\n"
     ]
    }
   ],
   "source": [
    "#2. Ask the user for the city that they grew up in.\n",
    "city = input(\"Which city do you live in?: \\n\")"
   ]
  },
  {
   "cell_type": "markdown",
   "id": "90081154",
   "metadata": {},
   "source": [
    "- `input` function helps us to take an input from end user asking them a question as we are doing it in step 2 and 3.\n",
    "- `\\n` using this we are making sure that the input cursor shows on a new line"
   ]
  },
  {
   "cell_type": "code",
   "execution_count": 3,
   "id": "f742600c",
   "metadata": {},
   "outputs": [
    {
     "name": "stdout",
     "output_type": "stream",
     "text": [
      "What is name of your pet?: \n",
      "Rocker\n"
     ]
    }
   ],
   "source": [
    "#3. Ask the user for the name of a pet.\n",
    "pet = input(\"What is name of your pet?: \\n\")"
   ]
  },
  {
   "cell_type": "code",
   "execution_count": 4,
   "id": "944eb7a2",
   "metadata": {},
   "outputs": [
    {
     "name": "stdout",
     "output_type": "stream",
     "text": [
      "Your Band Name could be Pune Rocker\n"
     ]
    }
   ],
   "source": [
    "#4. Combine the name of their city and pet and show them their band name.\n",
    "print(\"Your Band Name could be \" + city + \" \" + pet)"
   ]
  },
  {
   "cell_type": "markdown",
   "id": "02db89d5",
   "metadata": {},
   "source": [
    "- `print` function helps uss to display the values or string that we pass in the between the `()` and we are **concatenating** string using `+`. "
   ]
  }
 ],
 "metadata": {
  "kernelspec": {
   "display_name": "Python 3 (ipykernel)",
   "language": "python",
   "name": "python3"
  },
  "language_info": {
   "codemirror_mode": {
    "name": "ipython",
    "version": 3
   },
   "file_extension": ".py",
   "mimetype": "text/x-python",
   "name": "python",
   "nbconvert_exporter": "python",
   "pygments_lexer": "ipython3",
   "version": "3.9.12"
  }
 },
 "nbformat": 4,
 "nbformat_minor": 5
}
