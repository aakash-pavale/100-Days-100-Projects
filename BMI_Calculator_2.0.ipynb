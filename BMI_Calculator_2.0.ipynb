{
 "cells": [
  {
   "cell_type": "code",
   "execution_count": null,
   "id": "aa436d13",
   "metadata": {},
   "outputs": [],
   "source": [
    "# 🚨 Don't change the code below 👇\n",
    "height = float(input(\"enter your height in m: \"))\n",
    "weight = float(input(\"enter your weight in kg: \"))\n",
    "# 🚨 Don't change the code above 👆\n",
    "\n",
    "#Write your code below this line 👇\n",
    "bmi_calc = weight / (height ** 2)\n",
    "bmi = float(\"{:.1f}\".format(bmi_calc))\n",
    "bmi_display = round(bmi)\n",
    "\n",
    "if bmi <= 18.5:\n",
    "    print(f\"Your BMI is {bmi_display}, you are underweight.\")\n",
    "elif bmi > 18.5 and bmi <= 25:\n",
    "    print(f\"Your BMI is {bmi_display}, you have a normal weight.\")\n",
    "elif bmi > 25 and bmi <= 30:\n",
    "    print(f\"Your BMI is {bmi_display}, you are slightly overweight.\")\n",
    "elif bmi > 30 and bmi <= 35:\n",
    "    print(f\"Your BMI is {bmi_display}, you are obese.\")\n",
    "else:\n",
    "    print(f\"Your BMI is {bmi_display}, you are clinically obese.\")\n",
    "\n",
    "\n",
    "\n",
    "\n",
    "# \"Your BMI is 18, you are underweight.\"\n",
    "# \"Your BMI is 22, you have a normal weight.\"\n",
    "# \"Your BMI is 28, you are slightly overweight.\"\n",
    "# \"Your BMI is 33, you are obese.\"\n",
    "# \"Your BMI is 40, you are clinically obese.\""
   ]
  }
 ],
 "metadata": {
  "kernelspec": {
   "display_name": "Python 3 (ipykernel)",
   "language": "python",
   "name": "python3"
  },
  "language_info": {
   "codemirror_mode": {
    "name": "ipython",
    "version": 3
   },
   "file_extension": ".py",
   "mimetype": "text/x-python",
   "name": "python",
   "nbconvert_exporter": "python",
   "pygments_lexer": "ipython3",
   "version": "3.9.12"
  }
 },
 "nbformat": 4,
 "nbformat_minor": 5
}
