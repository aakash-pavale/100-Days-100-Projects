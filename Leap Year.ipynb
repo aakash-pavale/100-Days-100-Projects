{
 "cells": [
  {
   "cell_type": "code",
   "execution_count": 6,
   "id": "ed9fcae8",
   "metadata": {},
   "outputs": [
    {
     "name": "stdout",
     "output_type": "stream",
     "text": [
      "Which year do you want to check? 2020\n",
      "Leap year.\n"
     ]
    }
   ],
   "source": [
    "# 🚨 Don't change the code below 👇\n",
    "year = int(input(\"Which year do you want to check? \"))\n",
    "# 🚨 Don't change the code above 👆\n",
    "\n",
    "#Write your code below this line 👇\n",
    "if year % 4 == 0:\n",
    "    if year % 100 == 0:\n",
    "        if year % 400 == 0:\n",
    "            print(\"Leap year.\")\n",
    "        else:\n",
    "            print(\"Not leap year.\")\n",
    "    else:\n",
    "        print(\"Leap year.\")\n",
    "else:\n",
    "    print(\"Not leap year.\")"
   ]
  }
 ],
 "metadata": {
  "kernelspec": {
   "display_name": "Python 3 (ipykernel)",
   "language": "python",
   "name": "python3"
  },
  "language_info": {
   "codemirror_mode": {
    "name": "ipython",
    "version": 3
   },
   "file_extension": ".py",
   "mimetype": "text/x-python",
   "name": "python",
   "nbconvert_exporter": "python",
   "pygments_lexer": "ipython3",
   "version": "3.9.12"
  }
 },
 "nbformat": 4,
 "nbformat_minor": 5
}
